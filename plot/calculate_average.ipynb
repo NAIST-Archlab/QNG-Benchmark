{
 "cells": [
  {
   "cell_type": "code",
   "execution_count": 2,
   "metadata": {},
   "outputs": [
    {
     "name": "stdout",
     "output_type": "stream",
     "text": [
      "The autoreload extension is already loaded. To reload it, use:\n",
      "  %reload_ext autoreload\n"
     ]
    }
   ],
   "source": [
    "import matplotlib.pyplot as plt\n",
    "import numpy as np\n",
    "import constant\n",
    "%load_ext autoreload\n",
    "%autoreload 2"
   ]
  },
  {
   "cell_type": "code",
   "execution_count": 5,
   "metadata": {},
   "outputs": [],
   "source": []
  },
  {
   "cell_type": "code",
   "execution_count": 12,
   "metadata": {},
   "outputs": [],
   "source": [
    "times = []\n",
    "for ansatz in constant.ansatzs:\n",
    "    loss = np.loadtxt(f\"./data/loss/loss_9qubit_1layer_{ansatz}.txt\")\n",
    "    for i, optimizer in enumerate(constant.optimizers_name):\n",
    "        if i != 1:\n",
    "            times.append((loss[i][-1]/loss[1][-1]))"
   ]
  },
  {
   "cell_type": "code",
   "execution_count": 14,
   "metadata": {},
   "outputs": [
    {
     "data": {
      "text/plain": [
       "1.9415000556108917"
      ]
     },
     "execution_count": 14,
     "metadata": {},
     "output_type": "execute_result"
    }
   ],
   "source": [
    "np.mean(times)"
   ]
  },
  {
   "cell_type": "code",
   "execution_count": 18,
   "metadata": {},
   "outputs": [
    {
     "name": "stdout",
     "output_type": "stream",
     "text": [
      "1.100173962666777\n"
     ]
    }
   ],
   "source": [
    "times = []\n",
    "for ansatz in constant.ansatzs:\n",
    "    loss = np.loadtxt(f\"./data/time/wonder40/times_9qubit_1layer_{ansatz}.txt\")\n",
    "    for i, optimizer in enumerate(constant.optimizers_name):\n",
    "        if i != 1:\n",
    "            times.append((loss[i]/loss[1]))\n",
    "print(np.mean(times))"
   ]
  }
 ],
 "metadata": {
  "kernelspec": {
   "display_name": "Python 3",
   "language": "python",
   "name": "python3"
  },
  "language_info": {
   "codemirror_mode": {
    "name": "ipython",
    "version": 3
   },
   "file_extension": ".py",
   "mimetype": "text/x-python",
   "name": "python",
   "nbconvert_exporter": "python",
   "pygments_lexer": "ipython3",
   "version": "3.10.11"
  }
 },
 "nbformat": 4,
 "nbformat_minor": 2
}
