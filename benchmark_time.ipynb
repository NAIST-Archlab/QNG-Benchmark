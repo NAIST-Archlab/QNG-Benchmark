{
 "cells": [
  {
   "cell_type": "code",
   "execution_count": 15,
   "metadata": {},
   "outputs": [
    {
     "name": "stdout",
     "output_type": "stream",
     "text": [
      "The autoreload extension is already loaded. To reload it, use:\n",
      "  %reload_ext autoreload\n"
     ]
    }
   ],
   "source": [
    "import numpy as np\n",
    "from qoop.compilation.qsp import QuantumCompilation\n",
    "from qoop.core.ansatz import g2gn\n",
    "from qoop.core.state import specific\n",
    "from qoop.backend import constant\n",
    "import time\n",
    "%load_ext autoreload\n",
    "%autoreload 2\n",
    "num_qubits = 7\n",
    "num_layers = 1\n",
    "state = np.random.uniform(low = 0, high = 2*np.pi, size = 2**num_qubits)\n",
    "\n",
    "optimizers = ['sgd', 'adam', 'qng_fubini_study', 'qng_qfim', 'qng_adam']\n",
    "\n",
    "times = []\n",
    "\n",
    "for optimizer in optimizers:\n",
    "    start = time.time()\n",
    "    compiler = QuantumCompilation(\n",
    "        u = g2gn(num_qubits, num_layers),\n",
    "        vdagger = specific(state).inverse(),\n",
    "        optimizer = optimizer,\n",
    "        metrics_func = [\n",
    "            'loss_basic', \n",
    "            'compilation_trace_fidelities'\n",
    "        ]\n",
    "    )\n",
    "\n",
    "    compiler.fit(\n",
    "        num_steps = 10, \n",
    "    )\n",
    "    #plot figure\n",
    "    times.append(time.time() - start)\n"
   ]
  },
  {
   "cell_type": "code",
   "execution_count": null,
   "metadata": {},
   "outputs": [
    {
     "data": {
      "text/plain": [
       "array([1.1718, 1.1846, 1.6508, 1.6455, 1.6289])"
      ]
     },
     "execution_count": 14,
     "metadata": {},
     "output_type": "execute_result"
    }
   ],
   "source": [
    "np.round(np.array(times)/50, 4)"
   ]
  }
 ],
 "metadata": {
  "kernelspec": {
   "display_name": "Python 3",
   "language": "python",
   "name": "python3"
  },
  "language_info": {
   "codemirror_mode": {
    "name": "ipython",
    "version": 3
   },
   "file_extension": ".py",
   "mimetype": "text/x-python",
   "name": "python",
   "nbconvert_exporter": "python",
   "pygments_lexer": "ipython3",
   "version": "3.10.11"
  }
 },
 "nbformat": 4,
 "nbformat_minor": 2
}
