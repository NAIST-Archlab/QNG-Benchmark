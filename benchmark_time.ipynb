{
 "cells": [
  {
   "cell_type": "code",
   "execution_count": 21,
   "metadata": {},
   "outputs": [
    {
     "name": "stdout",
     "output_type": "stream",
     "text": [
      "The autoreload extension is already loaded. To reload it, use:\n",
      "  %reload_ext autoreload\n"
     ]
    },
    {
     "name": "stderr",
     "output_type": "stream",
     "text": [
      "c:\\Users\\Public\\Documents\\Github\\QNG-Benchmark\\qoop\\core\\state.py:273: UserWarning: The input state is not normalized, we will normalize it for you\n",
      "  warnings.warn(\"The input state is not normalized, we will normalize it for you\")\n"
     ]
    },
    {
     "name": "stdout",
     "output_type": "stream",
     "text": [
      "num_qubits: 2\n",
      "[0.0338 0.033  0.0465 0.0459 0.0459]\n"
     ]
    }
   ],
   "source": [
    "import numpy as np\n",
    "from qoop.compilation.qsp import QuantumCompilation\n",
    "from qoop.core.ansatz import g2gn\n",
    "from qoop.core.state import specific\n",
    "from qoop.backend import constant\n",
    "import time\n",
    "%load_ext autoreload\n",
    "%autoreload 2\n",
    "for num_qubits in range(2, 3):\n",
    "    num_layers = 1\n",
    "    state = np.random.uniform(low = 0, high = 2*np.pi, size = 2**num_qubits)\n",
    "\n",
    "    optimizers = ['sgd', 'adam', 'qng_fubini_study', 'qng_qfim', 'qng_adam']\n",
    "\n",
    "    times = []\n",
    "    num_steps = 1\n",
    "    for optimizer in optimizers:\n",
    "        start = time.time()\n",
    "        compiler = QuantumCompilation(\n",
    "            u = g2gn(num_qubits, num_layers),\n",
    "            vdagger = specific(state).inverse(),\n",
    "            optimizer = optimizer,\n",
    "            metrics_func = [\n",
    "                'loss_basic', \n",
    "                'compilation_trace_fidelities'\n",
    "            ]\n",
    "        )\n",
    "\n",
    "        compiler.fit(\n",
    "            num_steps = num_steps, \n",
    "        )\n",
    "        #plot figure\n",
    "        times.append(time.time() - start)\n",
    "    print(f'num_qubits: {num_qubits}')\n",
    "    np.savetxt(f'times_{num_qubits}.txt', np.round(np.array(times)/num_steps, 4))\n",
    "    print(np.round(np.array(times)/num_steps, 4))"
   ]
  },
  {
   "cell_type": "code",
   "execution_count": 1,
   "metadata": {},
   "outputs": [
    {
     "name": "stdout",
     "output_type": "stream",
     "text": [
      "6\n",
      "9\n",
      "12\n",
      "15\n",
      "18\n",
      "21\n",
      "24\n",
      "27\n"
     ]
    }
   ],
   "source": [
    "import numpy as np\n",
    "from qoop.compilation.qsp import QuantumCompilation\n",
    "from qoop.core.ansatz import g2gn\n",
    "from qoop.core.state import specific\n",
    "from qoop.backend import constant\n",
    "\n",
    "num_layers = 1\n",
    "for num_qubits in range(2, 10):\n",
    "    ansatz = g2gn(num_qubits, num_layers)\n",
    "    print(ansatz.num_parameters)"
   ]
  },
  {
   "cell_type": "code",
   "execution_count": 2,
   "metadata": {},
   "outputs": [
    {
     "data": {
      "image/png": "[encoded data removed]",
      "text/plain": [
       "<Figure size 705.552x367.889 with 1 Axes>"
      ]
     },
     "execution_count": 2,
     "metadata": {},
     "output_type": "execute_result"
    }
   ],
   "source": [
    "g2gn(4, 1).draw('mpl')"
   ]
  }
 ],
 "metadata": {
  "kernelspec": {
   "display_name": "Python 3",
   "language": "python",
   "name": "python3"
  },
  "language_info": {
   "codemirror_mode": {
    "name": "ipython",
    "version": 3
   },
   "file_extension": ".py",
   "mimetype": "text/x-python",
   "name": "python",
   "nbconvert_exporter": "python",
   "pygments_lexer": "ipython3",
   "version": "3.10.11"
  }
 },
 "nbformat": 4,
 "nbformat_minor": 2
}
