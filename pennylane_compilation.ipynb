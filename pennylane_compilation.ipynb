{
 "cells": [
  {
   "cell_type": "code",
   "execution_count": null,
   "metadata": {},
   "outputs": [],
   "source": [
    "import pennylane as qml\n",
    "from qoop.core import ansatz, state\n",
    "import pennylane.numpy as nps\n",
    "import qiskit\n",
    "import numpy as np\n",
    "from scipy.stats import unitary_group\n",
    "from qiskit.circuit.library import UnitaryGate\n",
    "num_qubits = 3\n",
    "dev = qml.device(\"default.qubit\")\n",
    "\n",
    "qc = qiskit.QuantumCircuit(num_qubits)\n",
    "\n",
    "u = UnitaryGate(unitary_group.rvs(2**num_qubits))\n",
    "\n",
    "qc.append(u, range(num_qubits))\n",
    "qcx = qiskit.transpile(qc, basis_gates=['h','s','cx','u','rx','ry','rz'], optimization_level=3)\n",
    "\n",
    "@qml.qnode(dev, diff_method=\"parameter-shift\")\n",
    "def circuit2(thetas):\n",
    "    for i in range(0, len(thetas), 3):\n",
    "        qml.RX(thetas[i], wires = 0)\n",
    "        qml.RY(thetas[i+1], wires = 1)\n",
    "        qml.RZ(thetas[i+2], wires = 2)\n",
    "        qml.CNOT(wires = [0, 1])\n",
    "        qml.CNOT(wires = [1, 2])\n",
    "    qml.from_qiskit(qcx)\n",
    "    return qml.expval(qml.PauliZ(0))\n",
    "    \n",
    "\n",
    "def cost(thetas):\n",
    "    return 1 - circuit2(thetas)\n",
    "\n",
    "thetas = nps.random.uniform(0, 2*nps.pi, 18, requires_grad=True)\n",
    "steps = 10\n",
    "costs = []\n",
    "opt = qml.AdamOptimizer(stepsize = 0.1)\n",
    "for n in range(steps):\n",
    "    thetas, prev_cost = opt.step_and_cost(cost, thetas)\n",
    "    if prev_cost < 10^(-6):\n",
    "        print(\"Achieved error threshold at step\", n)\n",
    "        break\n",
    "    costs.append(prev_cost)"
   ]
  },
  {
   "cell_type": "code",
   "execution_count": null,
   "metadata": {},
   "outputs": [
    {
     "name": "stdout",
     "output_type": "stream",
     "text": [
      "0: ─╭●──────────────────╭RY(2.53)──RZ(3.57)──RX(1.27)──RZ(0.38)─╭●──────────────────╭RY(6.23)\n",
      "1: ─╰RY(1.93)─╭●────────│──────────RZ(0.84)──RX(1.00)──RZ(6.13)─╰RY(1.72)─╭●────────│────────\n",
      "2: ───────────╰RY(2.36)─╰●─────────RZ(1.44)──RX(3.79)──RZ(1.02)───────────╰RY(5.29)─╰●───────\n",
      "\n",
      "───RZ(1.57)──RX(4.77)──RZ(3.48)─┤  \n",
      "───RZ(1.38)──RX(1.73)──RZ(4.02)─┤  \n",
      "───RZ(4.97)──RX(1.18)──RZ(1.29)─┤  \n"
     ]
    }
   ],
   "source": []
  }
 ],
 "metadata": {
  "kernelspec": {
   "display_name": "Python 3",
   "language": "python",
   "name": "python3"
  },
  "language_info": {
   "codemirror_mode": {
    "name": "ipython",
    "version": 3
   },
   "file_extension": ".py",
   "mimetype": "text/x-python",
   "name": "python",
   "nbconvert_exporter": "python",
   "pygments_lexer": "ipython3",
   "version": "3.11.5"
  }
 },
 "nbformat": 4,
 "nbformat_minor": 2
}
