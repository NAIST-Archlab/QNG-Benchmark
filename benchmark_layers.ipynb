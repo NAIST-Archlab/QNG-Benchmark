{
 "cells": [
  {
   "cell_type": "code",
   "execution_count": 5,
   "metadata": {},
   "outputs": [
    {
     "name": "stderr",
     "output_type": "stream",
     "text": [
      "c:\\Users\\Public\\Documents\\Github\\QNG-Benchmark\\qoop\\core\\state.py:273: UserWarning: The input state is not normalized, we will normalize it for you\n",
      "  warnings.warn(\"The input state is not normalized, we will normalize it for you\")\n"
     ]
    },
    {
     "name": "stdout",
     "output_type": "stream",
     "text": [
      "The autoreload extension is already loaded. To reload it, use:\n",
      "  %reload_ext autoreload\n"
     ]
    },
    {
     "name": "stderr",
     "output_type": "stream",
     "text": [
      "Step: 100%|██████████| 50/50 [02:04<00:00,  2.49s/it]\n",
      "Step:  46%|████▌     | 23/50 [00:57<01:06,  2.46s/it]"
     ]
    }
   ],
   "source": [
    "import numpy as np\n",
    "from qoop.compilation.qsp import QuantumCompilation\n",
    "from qoop.core.ansatz import g2gn, Wchain_zxz\n",
    "from qoop.core.state import specific\n",
    "from qoop.backend import constant\n",
    "import time\n",
    "%load_ext autoreload\n",
    "%autoreload 2\n",
    "\n",
    "for num_layers in range(1, 10):\n",
    "    loss_valuess = []\n",
    "    num_qubits = 5\n",
    "    state = np.random.uniform(low = 0, high = 2*np.pi, size = 2**num_qubits)\n",
    "\n",
    "    optimizers = ['sgd', 'adam', 'qng_fubini_study', 'qng_qfim', 'qng_adam']\n",
    "\n",
    "    times = []\n",
    "    num_steps = 50\n",
    "    for optimizer in optimizers:\n",
    "        start = time.time()\n",
    "        compiler = QuantumCompilation(\n",
    "            u = Wchain_zxz(num_qubits, num_layers),\n",
    "            vdagger = specific(state).inverse(),\n",
    "            optimizer = optimizer,\n",
    "            metrics_func = [\n",
    "                'loss_basic', \n",
    "                'compilation_trace_fidelities'\n",
    "            ]\n",
    "        )\n",
    "\n",
    "        compiler.fit(\n",
    "            num_steps = num_steps, \n",
    "            verbose=1\n",
    "        )\n",
    "        loss_valuess.append(compiler.metrics['loss_basic'])\n",
    "    np.savetxt(f'./data/loss/loss_{num_qubits}qubit_{num_layers}layer_{Wchain_zxz.__name__}.txt', np.array(loss_valuess))\n",
    "    print(f'loss_{num_qubits}qubit_{num_layers}layer_{Wchain_zxz.__name__}')"
   ]
  },
  {
   "cell_type": "code",
   "execution_count": null,
   "metadata": {},
   "outputs": [
    {
     "name": "stdout",
     "output_type": "stream",
     "text": [
      "The autoreload extension is already loaded. To reload it, use:\n",
      "  %reload_ext autoreload\n"
     ]
    },
    {
     "ename": "CircuitError",
     "evalue": "'duplicate qubit arguments'",
     "output_type": "error",
     "traceback": [
      "\u001b[1;31m---------------------------------------------------------------------------\u001b[0m",
      "\u001b[1;31mCircuitError\u001b[0m                              Traceback (most recent call last)",
      "Cell \u001b[1;32mIn[4], line 22\u001b[0m\n\u001b[0;32m     19\u001b[0m \u001b[38;5;28;01mfor\u001b[39;00m optimizer \u001b[38;5;129;01min\u001b[39;00m optimizers:\n\u001b[0;32m     20\u001b[0m     start \u001b[38;5;241m=\u001b[39m time\u001b[38;5;241m.\u001b[39mtime()\n\u001b[0;32m     21\u001b[0m     compiler \u001b[38;5;241m=\u001b[39m QuantumCompilation(\n\u001b[1;32m---> 22\u001b[0m         u \u001b[38;5;241m=\u001b[39m \u001b[43mg2gn\u001b[49m\u001b[43m(\u001b[49m\u001b[43mnum_qubits\u001b[49m\u001b[43m,\u001b[49m\u001b[43m \u001b[49m\u001b[43mnum_layers\u001b[49m\u001b[43m)\u001b[49m,\n\u001b[0;32m     23\u001b[0m         vdagger \u001b[38;5;241m=\u001b[39m specific(state)\u001b[38;5;241m.\u001b[39minverse(),\n\u001b[0;32m     24\u001b[0m         optimizer \u001b[38;5;241m=\u001b[39m optimizer,\n\u001b[0;32m     25\u001b[0m         metrics_func \u001b[38;5;241m=\u001b[39m [\n\u001b[0;32m     26\u001b[0m             \u001b[38;5;124m'\u001b[39m\u001b[38;5;124mloss_basic\u001b[39m\u001b[38;5;124m'\u001b[39m, \n\u001b[0;32m     27\u001b[0m             \u001b[38;5;124m'\u001b[39m\u001b[38;5;124mcompilation_trace_fidelities\u001b[39m\u001b[38;5;124m'\u001b[39m\n\u001b[0;32m     28\u001b[0m         ]\n\u001b[0;32m     29\u001b[0m     )\n\u001b[0;32m     31\u001b[0m     compiler\u001b[38;5;241m.\u001b[39mfit(\n\u001b[0;32m     32\u001b[0m         num_steps \u001b[38;5;241m=\u001b[39m num_steps, \n\u001b[0;32m     33\u001b[0m         verbose\u001b[38;5;241m=\u001b[39m\u001b[38;5;241m1\u001b[39m\n\u001b[0;32m     34\u001b[0m     )\n\u001b[0;32m     35\u001b[0m     loss_valuess\u001b[38;5;241m.\u001b[39mappend(compiler\u001b[38;5;241m.\u001b[39mmetrics[\u001b[38;5;124m'\u001b[39m\u001b[38;5;124mloss_basic\u001b[39m\u001b[38;5;124m'\u001b[39m])\n",
      "File \u001b[1;32mc:\\Users\\Public\\Documents\\Github\\QNG-Benchmark\\qoop\\core\\ansatz.py:758\u001b[0m, in \u001b[0;36mg2gn\u001b[1;34m(num_qubits, num_layers)\u001b[0m\n\u001b[0;32m    755\u001b[0m qc \u001b[38;5;241m=\u001b[39m qiskit\u001b[38;5;241m.\u001b[39mQuantumCircuit(num_qubits, num_qubits)\n\u001b[0;32m    756\u001b[0m \u001b[38;5;28;01mfor\u001b[39;00m _ \u001b[38;5;129;01min\u001b[39;00m \u001b[38;5;28mrange\u001b[39m(\u001b[38;5;241m0\u001b[39m, num_layers):\n\u001b[0;32m    757\u001b[0m     qc \u001b[38;5;241m=\u001b[39m utilities\u001b[38;5;241m.\u001b[39mcompose_circuit(\n\u001b[1;32m--> 758\u001b[0m         [qc, \u001b[43mg2\u001b[49m\u001b[43m(\u001b[49m\u001b[43mnum_qubits\u001b[49m\u001b[43m,\u001b[49m\u001b[43m \u001b[49m\u001b[38;5;241;43m1\u001b[39;49m\u001b[43m)\u001b[49m, gn(num_qubits, \u001b[38;5;241m1\u001b[39m)])\n\u001b[0;32m    759\u001b[0m \u001b[38;5;28;01mreturn\u001b[39;00m qc\n",
      "File \u001b[1;32mc:\\Users\\Public\\Documents\\Github\\QNG-Benchmark\\qoop\\core\\ansatz.py:724\u001b[0m, in \u001b[0;36mg2\u001b[1;34m(num_qubits, num_layers)\u001b[0m\n\u001b[0;32m    722\u001b[0m     \u001b[38;5;28;01mfor\u001b[39;00m i \u001b[38;5;129;01min\u001b[39;00m \u001b[38;5;28mrange\u001b[39m(\u001b[38;5;241m1\u001b[39m, num_qubits \u001b[38;5;241m-\u001b[39m \u001b[38;5;241m1\u001b[39m, \u001b[38;5;241m2\u001b[39m):\n\u001b[0;32m    723\u001b[0m         qc\u001b[38;5;241m.\u001b[39mcz(i, i \u001b[38;5;241m+\u001b[39m \u001b[38;5;241m1\u001b[39m)\n\u001b[1;32m--> 724\u001b[0m     \u001b[43mqc\u001b[49m\u001b[38;5;241;43m.\u001b[39;49m\u001b[43mcz\u001b[49m\u001b[43m(\u001b[49m\u001b[38;5;241;43m0\u001b[39;49m\u001b[43m,\u001b[49m\u001b[43m \u001b[49m\u001b[43mnum_qubits\u001b[49m\u001b[43m \u001b[49m\u001b[38;5;241;43m-\u001b[39;49m\u001b[43m \u001b[49m\u001b[38;5;241;43m1\u001b[39;49m\u001b[43m)\u001b[49m\n\u001b[0;32m    725\u001b[0m \u001b[38;5;28;01mreturn\u001b[39;00m qc\n",
      "File \u001b[1;32m~\\AppData\\Local\\Packages\\PythonSoftwareFoundation.Python.3.10_qbz5n2kfra8p0\\LocalCache\\local-packages\\Python310\\site-packages\\qiskit\\circuit\\quantumcircuit.py:3903\u001b[0m, in \u001b[0;36mQuantumCircuit.cz\u001b[1;34m(self, control_qubit, target_qubit, label, ctrl_state)\u001b[0m\n\u001b[0;32m   3886\u001b[0m \u001b[38;5;250m\u001b[39m\u001b[38;5;124mr\u001b[39m\u001b[38;5;124;03m\"\"\"Apply :class:`~qiskit.circuit.library.CZGate`.\u001b[39;00m\n\u001b[0;32m   3887\u001b[0m \n\u001b[0;32m   3888\u001b[0m \u001b[38;5;124;03mFor the full matrix form of this gate, see the underlying gate documentation.\u001b[39;00m\n\u001b[1;32m   (...)\u001b[0m\n\u001b[0;32m   3899\u001b[0m \u001b[38;5;124;03m    A handle to the instructions created.\u001b[39;00m\n\u001b[0;32m   3900\u001b[0m \u001b[38;5;124;03m\"\"\"\u001b[39;00m\n\u001b[0;32m   3901\u001b[0m \u001b[38;5;28;01mfrom\u001b[39;00m \u001b[38;5;21;01m.\u001b[39;00m\u001b[38;5;21;01mlibrary\u001b[39;00m\u001b[38;5;21;01m.\u001b[39;00m\u001b[38;5;21;01mstandard_gates\u001b[39;00m\u001b[38;5;21;01m.\u001b[39;00m\u001b[38;5;21;01mz\u001b[39;00m \u001b[38;5;28;01mimport\u001b[39;00m CZGate\n\u001b[1;32m-> 3903\u001b[0m \u001b[38;5;28;01mreturn\u001b[39;00m \u001b[38;5;28;43mself\u001b[39;49m\u001b[38;5;241;43m.\u001b[39;49m\u001b[43mappend\u001b[49m\u001b[43m(\u001b[49m\n\u001b[0;32m   3904\u001b[0m \u001b[43m    \u001b[49m\u001b[43mCZGate\u001b[49m\u001b[43m(\u001b[49m\u001b[43mlabel\u001b[49m\u001b[38;5;241;43m=\u001b[39;49m\u001b[43mlabel\u001b[49m\u001b[43m,\u001b[49m\u001b[43m \u001b[49m\u001b[43mctrl_state\u001b[49m\u001b[38;5;241;43m=\u001b[39;49m\u001b[43mctrl_state\u001b[49m\u001b[43m)\u001b[49m\u001b[43m,\u001b[49m\u001b[43m \u001b[49m\u001b[43m[\u001b[49m\u001b[43mcontrol_qubit\u001b[49m\u001b[43m,\u001b[49m\u001b[43m \u001b[49m\u001b[43mtarget_qubit\u001b[49m\u001b[43m]\u001b[49m\u001b[43m,\u001b[49m\u001b[43m \u001b[49m\u001b[43m[\u001b[49m\u001b[43m]\u001b[49m\n\u001b[0;32m   3905\u001b[0m \u001b[43m\u001b[49m\u001b[43m)\u001b[49m\n",
      "File \u001b[1;32m~\\AppData\\Local\\Packages\\PythonSoftwareFoundation.Python.3.10_qbz5n2kfra8p0\\LocalCache\\local-packages\\Python310\\site-packages\\qiskit\\circuit\\quantumcircuit.py:1281\u001b[0m, in \u001b[0;36mQuantumCircuit.append\u001b[1;34m(self, instruction, qargs, cargs)\u001b[0m\n\u001b[0;32m   1275\u001b[0m broadcast_iter \u001b[38;5;241m=\u001b[39m (\n\u001b[0;32m   1276\u001b[0m     operation\u001b[38;5;241m.\u001b[39mbroadcast_arguments(expanded_qargs, expanded_cargs)\n\u001b[0;32m   1277\u001b[0m     \u001b[38;5;28;01mif\u001b[39;00m \u001b[38;5;28misinstance\u001b[39m(operation, Instruction)\n\u001b[0;32m   1278\u001b[0m     \u001b[38;5;28;01melse\u001b[39;00m Instruction\u001b[38;5;241m.\u001b[39mbroadcast_arguments(operation, expanded_qargs, expanded_cargs)\n\u001b[0;32m   1279\u001b[0m )\n\u001b[0;32m   1280\u001b[0m \u001b[38;5;28;01mfor\u001b[39;00m qarg, carg \u001b[38;5;129;01min\u001b[39;00m broadcast_iter:\n\u001b[1;32m-> 1281\u001b[0m     \u001b[38;5;28;43mself\u001b[39;49m\u001b[38;5;241;43m.\u001b[39;49m\u001b[43m_check_dups\u001b[49m\u001b[43m(\u001b[49m\u001b[43mqarg\u001b[49m\u001b[43m)\u001b[49m\n\u001b[0;32m   1282\u001b[0m     instruction \u001b[38;5;241m=\u001b[39m CircuitInstruction(operation, qarg, carg)\n\u001b[0;32m   1283\u001b[0m     circuit_scope\u001b[38;5;241m.\u001b[39mappend(instruction)\n",
      "File \u001b[1;32m~\\AppData\\Local\\Packages\\PythonSoftwareFoundation.Python.3.10_qbz5n2kfra8p0\\LocalCache\\local-packages\\Python310\\site-packages\\qiskit\\circuit\\quantumcircuit.py:1574\u001b[0m, in \u001b[0;36mQuantumCircuit._check_dups\u001b[1;34m(self, qubits)\u001b[0m\n\u001b[0;32m   1572\u001b[0m squbits \u001b[38;5;241m=\u001b[39m \u001b[38;5;28mset\u001b[39m(qubits)\n\u001b[0;32m   1573\u001b[0m \u001b[38;5;28;01mif\u001b[39;00m \u001b[38;5;28mlen\u001b[39m(squbits) \u001b[38;5;241m!=\u001b[39m \u001b[38;5;28mlen\u001b[39m(qubits):\n\u001b[1;32m-> 1574\u001b[0m     \u001b[38;5;28;01mraise\u001b[39;00m CircuitError(\u001b[38;5;124m\"\u001b[39m\u001b[38;5;124mduplicate qubit arguments\u001b[39m\u001b[38;5;124m\"\u001b[39m)\n",
      "\u001b[1;31mCircuitError\u001b[0m: 'duplicate qubit arguments'"
     ]
    }
   ],
   "source": [
    "\n",
    "for num_qubits in range(2, 10):\n",
    "    loss_valuess = []\n",
    "    num_layers = 1\n",
    "    state = np.random.uniform(low = 0, high = 2*np.pi, size = 2**num_qubits)\n",
    "\n",
    "    optimizers = ['sgd', 'adam', 'qng_fubini_study', 'qng_qfim', 'qng_adam']\n",
    "\n",
    "    times = []\n",
    "    num_steps = 50\n",
    "    for optimizer in optimizers:\n",
    "        start = time.time()\n",
    "        compiler = QuantumCompilation(\n",
    "            u = Wchain_zxz(num_qubits, num_layers),\n",
    "            vdagger = specific(state).inverse(),\n",
    "            optimizer = optimizer,\n",
    "            metrics_func = [\n",
    "                'loss_basic', \n",
    "                'compilation_trace_fidelities'\n",
    "            ]\n",
    "        )\n",
    "\n",
    "        compiler.fit(\n",
    "            num_steps = num_steps, \n",
    "            verbose=1\n",
    "        )\n",
    "        loss_valuess.append(compiler.metrics['loss_basic'])\n",
    "    np.savetxt(f'./data/loss/loss_{num_qubits}qubit_{num_layers}layer_{Wchain_zxz.__name__}.txt', np.array(loss_valuess))\n",
    "    print(f'loss_{num_qubits}qubit_{num_layers}layer_{Wchain_zxz.__name__}')"
   ]
  }
 ],
 "metadata": {
  "kernelspec": {
   "display_name": "Python 3",
   "language": "python",
   "name": "python3"
  },
  "language_info": {
   "codemirror_mode": {
    "name": "ipython",
    "version": 3
   },
   "file_extension": ".py",
   "mimetype": "text/x-python",
   "name": "python",
   "nbconvert_exporter": "python",
   "pygments_lexer": "ipython3",
   "version": "3.10.11"
  }
 },
 "nbformat": 4,
 "nbformat_minor": 2
}
