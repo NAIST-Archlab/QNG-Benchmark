{
 "cells": [
  {
   "cell_type": "code",
   "execution_count": 10,
   "metadata": {},
   "outputs": [
    {
     "name": "stdout",
     "output_type": "stream",
     "text": [
      "The autoreload extension is already loaded. To reload it, use:\n",
      "  %reload_ext autoreload\n"
     ]
    },
    {
     "name": "stderr",
     "output_type": "stream",
     "text": [
      "Step: 100%|██████████| 50/50 [02:03<00:00,  2.47s/it]\n",
      "Step: 100%|██████████| 50/50 [02:03<00:00,  2.47s/it]\n",
      "Step: 100%|██████████| 50/50 [02:51<00:00,  3.43s/it]\n",
      "Step: 100%|██████████| 50/50 [02:53<00:00,  3.46s/it]\n",
      "Step: 100%|██████████| 50/50 [02:51<00:00,  3.43s/it]\n"
     ]
    },
    {
     "name": "stdout",
     "output_type": "stream",
     "text": [
      "loss_5qubit_1layer_Wchain_zxz\n"
     ]
    },
    {
     "name": "stderr",
     "output_type": "stream",
     "text": [
      "Step: 100%|██████████| 50/50 [04:22<00:00,  5.24s/it]\n",
      "Step: 100%|██████████| 50/50 [04:21<00:00,  5.23s/it]\n",
      "Step: 100%|██████████| 50/50 [05:58<00:00,  7.17s/it]\n",
      "Step: 100%|██████████| 50/50 [06:01<00:00,  7.24s/it]\n",
      "Step: 100%|██████████| 50/50 [06:35<00:00,  7.92s/it]\n"
     ]
    },
    {
     "name": "stdout",
     "output_type": "stream",
     "text": [
      "loss_5qubit_2layer_Wchain_zxz\n"
     ]
    },
    {
     "name": "stderr",
     "output_type": "stream",
     "text": [
      "Step: 100%|██████████| 50/50 [07:01<00:00,  8.43s/it]\n",
      "Step: 100%|██████████| 50/50 [06:35<00:00,  7.90s/it]\n",
      "Step: 100%|██████████| 50/50 [09:00<00:00, 10.81s/it]\n",
      "Step: 100%|██████████| 50/50 [08:59<00:00, 10.79s/it]\n",
      "Step: 100%|██████████| 50/50 [09:01<00:00, 10.82s/it]\n"
     ]
    },
    {
     "name": "stdout",
     "output_type": "stream",
     "text": [
      "loss_5qubit_3layer_Wchain_zxz\n"
     ]
    },
    {
     "name": "stderr",
     "output_type": "stream",
     "text": [
      "Step: 100%|██████████| 50/50 [09:07<00:00, 10.94s/it]\n",
      "Step: 100%|██████████| 50/50 [09:06<00:00, 10.92s/it]\n",
      "Step: 100%|██████████| 50/50 [12:21<00:00, 14.84s/it]\n",
      "Step: 100%|██████████| 50/50 [12:24<00:00, 14.88s/it]\n",
      "Step: 100%|██████████| 50/50 [12:23<00:00, 14.87s/it]\n"
     ]
    },
    {
     "name": "stdout",
     "output_type": "stream",
     "text": [
      "loss_5qubit_4layer_Wchain_zxz\n"
     ]
    },
    {
     "name": "stderr",
     "output_type": "stream",
     "text": [
      "Step: 100%|██████████| 50/50 [11:40<00:00, 14.01s/it]\n",
      "Step: 100%|██████████| 50/50 [11:38<00:00, 13.98s/it]\n",
      "Step: 100%|██████████| 50/50 [15:50<00:00, 19.02s/it]\n",
      "Step: 100%|██████████| 50/50 [15:50<00:00, 19.02s/it]\n",
      "Step: 100%|██████████| 50/50 [15:51<00:00, 19.02s/it]\n"
     ]
    },
    {
     "name": "stdout",
     "output_type": "stream",
     "text": [
      "loss_5qubit_5layer_Wchain_zxz\n"
     ]
    },
    {
     "name": "stderr",
     "output_type": "stream",
     "text": [
      "Step: 100%|██████████| 50/50 [14:29<00:00, 17.39s/it]\n",
      "Step: 100%|██████████| 50/50 [14:29<00:00, 17.40s/it]\n",
      "Step: 100%|██████████| 50/50 [19:30<00:00, 23.40s/it]\n",
      "Step: 100%|██████████| 50/50 [19:29<00:00, 23.40s/it]\n",
      "Step: 100%|██████████| 50/50 [19:32<00:00, 23.44s/it]\n"
     ]
    },
    {
     "name": "stdout",
     "output_type": "stream",
     "text": [
      "loss_5qubit_6layer_Wchain_zxz\n"
     ]
    },
    {
     "name": "stderr",
     "output_type": "stream",
     "text": [
      "Step: 100%|██████████| 50/50 [17:16<00:00, 20.72s/it]\n",
      "Step: 100%|██████████| 50/50 [17:17<00:00, 20.76s/it]\n",
      "Step: 100%|██████████| 50/50 [23:14<00:00, 27.89s/it]\n",
      "Step: 100%|██████████| 50/50 [23:13<00:00, 27.86s/it]\n",
      "Step: 100%|██████████| 50/50 [23:12<00:00, 27.86s/it]\n"
     ]
    },
    {
     "name": "stdout",
     "output_type": "stream",
     "text": [
      "loss_5qubit_7layer_Wchain_zxz\n"
     ]
    },
    {
     "name": "stderr",
     "output_type": "stream",
     "text": [
      "Step: 100%|██████████| 50/50 [20:09<00:00, 24.19s/it]\n",
      "Step: 100%|██████████| 50/50 [20:10<00:00, 24.21s/it]\n",
      "Step: 100%|██████████| 50/50 [27:04<00:00, 32.48s/it]\n",
      "Step: 100%|██████████| 50/50 [27:03<00:00, 32.46s/it]\n",
      "Step: 100%|██████████| 50/50 [27:02<00:00, 32.46s/it]\n"
     ]
    },
    {
     "name": "stdout",
     "output_type": "stream",
     "text": [
      "loss_5qubit_8layer_Wchain_zxz\n"
     ]
    },
    {
     "name": "stderr",
     "output_type": "stream",
     "text": [
      "Step: 100%|██████████| 50/50 [23:20<00:00, 28.02s/it]\n",
      "Step: 100%|██████████| 50/50 [23:20<00:00, 28.02s/it]\n",
      "Step: 100%|██████████| 50/50 [31:11<00:00, 37.43s/it]\n",
      "Step: 100%|██████████| 50/50 [31:14<00:00, 37.48s/it]\n",
      "Step: 100%|██████████| 50/50 [31:15<00:00, 37.52s/it]\n"
     ]
    },
    {
     "name": "stdout",
     "output_type": "stream",
     "text": [
      "loss_5qubit_9layer_Wchain_zxz\n"
     ]
    }
   ],
   "source": [
    "import numpy as np\n",
    "from qoop.compilation.qsp import QuantumCompilation\n",
    "from qoop.core.ansatz import g2gn, Wchain_zxz\n",
    "from qoop.core.state import specific\n",
    "from qoop.backend import constant\n",
    "import time\n",
    "%load_ext autoreload\n",
    "%autoreload 2\n",
    "\n",
    "for num_layers in range(1, 10):\n",
    "    loss_valuess = []\n",
    "    num_qubits = 5\n",
    "    state = np.random.uniform(low = 0, high = 2*np.pi, size = 2**num_qubits)\n",
    "\n",
    "    optimizers = ['sgd', 'adam', 'qng_fubini_study', 'qng_qfim', 'qng_adam']\n",
    "\n",
    "    times = []\n",
    "    num_steps = 50\n",
    "    for optimizer in optimizers:\n",
    "        start = time.time()\n",
    "        compiler = QuantumCompilation(\n",
    "            u = Wchain_zxz(num_qubits, num_layers),\n",
    "            vdagger = specific(state).inverse(),\n",
    "            optimizer = optimizer,\n",
    "            metrics_func = [\n",
    "                'loss_basic', \n",
    "                'compilation_trace_fidelities'\n",
    "            ]\n",
    "        )\n",
    "\n",
    "        compiler.fit(\n",
    "            num_steps = num_steps, \n",
    "            verbose=1\n",
    "        )\n",
    "        loss_valuess.append(compiler.metrics['loss_basic'])\n",
    "    np.savetxt(f'./data/loss/loss_{num_qubits}qubit_{num_layers}layer_{Wchain_zxz.__name__}.txt', np.array(loss_valuess))\n",
    "    print(f'loss_{num_qubits}qubit_{num_layers}layer_{Wchain_zxz.__name__}')"
   ]
  },
  {
   "cell_type": "code",
   "execution_count": 11,
   "metadata": {},
   "outputs": [
    {
     "name": "stderr",
     "output_type": "stream",
     "text": [
      "Step: 100%|██████████| 50/50 [00:02<00:00, 20.31it/s]\n",
      "Step: 100%|██████████| 50/50 [00:02<00:00, 20.18it/s]\n",
      "Step: 100%|██████████| 50/50 [00:03<00:00, 14.11it/s]\n",
      "Step: 100%|██████████| 50/50 [00:03<00:00, 14.38it/s]\n",
      "Step: 100%|██████████| 50/50 [00:03<00:00, 14.44it/s]\n"
     ]
    },
    {
     "name": "stdout",
     "output_type": "stream",
     "text": [
      "loss_2qubit_1layer_Wchain_zxz\n"
     ]
    },
    {
     "name": "stderr",
     "output_type": "stream",
     "text": [
      "Step: 100%|██████████| 50/50 [00:09<00:00,  5.01it/s]\n",
      "Step: 100%|██████████| 50/50 [00:10<00:00,  4.99it/s]\n",
      "Step: 100%|██████████| 50/50 [00:14<00:00,  3.55it/s]\n",
      "Step: 100%|██████████| 50/50 [00:13<00:00,  3.57it/s]\n",
      "Step: 100%|██████████| 50/50 [00:13<00:00,  3.58it/s]\n"
     ]
    },
    {
     "name": "stdout",
     "output_type": "stream",
     "text": [
      "loss_3qubit_1layer_Wchain_zxz\n"
     ]
    },
    {
     "name": "stderr",
     "output_type": "stream",
     "text": [
      "Step: 100%|██████████| 50/50 [00:36<00:00,  1.36it/s]\n",
      "Step: 100%|██████████| 50/50 [00:36<00:00,  1.37it/s]\n",
      "Step: 100%|██████████| 50/50 [00:51<00:00,  1.03s/it]\n",
      "Step: 100%|██████████| 50/50 [00:51<00:00,  1.02s/it]\n",
      "Step: 100%|██████████| 50/50 [00:51<00:00,  1.02s/it]\n"
     ]
    },
    {
     "name": "stdout",
     "output_type": "stream",
     "text": [
      "loss_4qubit_1layer_Wchain_zxz\n"
     ]
    },
    {
     "name": "stderr",
     "output_type": "stream",
     "text": [
      "Step: 100%|██████████| 50/50 [02:04<00:00,  2.48s/it]\n",
      "Step: 100%|██████████| 50/50 [02:03<00:00,  2.47s/it]\n",
      "Step: 100%|██████████| 50/50 [02:53<00:00,  3.46s/it]\n",
      "Step: 100%|██████████| 50/50 [02:51<00:00,  3.44s/it]\n",
      "Step: 100%|██████████| 50/50 [02:51<00:00,  3.44s/it]\n"
     ]
    },
    {
     "name": "stdout",
     "output_type": "stream",
     "text": [
      "loss_5qubit_1layer_Wchain_zxz\n"
     ]
    },
    {
     "name": "stderr",
     "output_type": "stream",
     "text": [
      "Step: 100%|██████████| 50/50 [06:56<00:00,  8.33s/it]\n",
      "Step: 100%|██████████| 50/50 [06:54<00:00,  8.29s/it]\n",
      "Step: 100%|██████████| 50/50 [09:24<00:00, 11.29s/it]\n",
      "Step: 100%|██████████| 50/50 [09:24<00:00, 11.28s/it]\n",
      "Step: 100%|██████████| 50/50 [09:24<00:00, 11.28s/it]\n"
     ]
    },
    {
     "name": "stdout",
     "output_type": "stream",
     "text": [
      "loss_6qubit_1layer_Wchain_zxz\n"
     ]
    },
    {
     "name": "stderr",
     "output_type": "stream",
     "text": [
      "Step: 100%|██████████| 50/50 [25:28<00:00, 30.58s/it]\n",
      "Step: 100%|██████████| 50/50 [25:31<00:00, 30.63s/it]\n",
      "Step: 100%|██████████| 50/50 [32:51<00:00, 39.42s/it]\n",
      "Step: 100%|██████████| 50/50 [32:51<00:00, 39.43s/it]\n",
      "Step: 100%|██████████| 50/50 [32:50<00:00, 39.42s/it]\n"
     ]
    },
    {
     "name": "stdout",
     "output_type": "stream",
     "text": [
      "loss_7qubit_1layer_Wchain_zxz\n"
     ]
    },
    {
     "name": "stderr",
     "output_type": "stream",
     "text": [
      "Step: 100%|██████████| 50/50 [2:00:48<00:00, 144.97s/it]\n",
      "Step: 100%|██████████| 50/50 [2:05:42<00:00, 150.86s/it]\n",
      "Step: 100%|██████████| 50/50 [2:49:27<00:00, 203.36s/it]\n",
      "Step: 100%|██████████| 50/50 [2:28:58<00:00, 178.76s/it]\n",
      "Step: 100%|██████████| 50/50 [2:24:07<00:00, 172.95s/it]\n"
     ]
    },
    {
     "name": "stdout",
     "output_type": "stream",
     "text": [
      "loss_8qubit_1layer_Wchain_zxz\n"
     ]
    },
    {
     "name": "stderr",
     "output_type": "stream",
     "text": [
      "Step: 100%|██████████| 50/50 [15:04:39<00:00, 1085.60s/it]\n",
      "Step: 100%|██████████| 50/50 [15:22:09<00:00, 1106.60s/it]\n",
      "Step: 100%|██████████| 50/50 [16:37:07<00:00, 1196.55s/it]\n",
      "Step: 100%|██████████| 50/50 [16:08:31<00:00, 1162.24s/it]\n",
      "Step: 100%|██████████| 50/50 [17:46:01<00:00, 1279.24s/it]\n"
     ]
    },
    {
     "name": "stdout",
     "output_type": "stream",
     "text": [
      "loss_9qubit_1layer_Wchain_zxz\n"
     ]
    }
   ],
   "source": [
    "\n",
    "for num_qubits in range(2, 10):\n",
    "    loss_valuess = []\n",
    "    num_layers = 1\n",
    "    state = np.random.uniform(low = 0, high = 2*np.pi, size = 2**num_qubits)\n",
    "\n",
    "    optimizers = ['sgd', 'adam', 'qng_fubini_study', 'qng_qfim', 'qng_adam']\n",
    "\n",
    "    times = []\n",
    "    num_steps = 50\n",
    "    for optimizer in optimizers:\n",
    "        start = time.time()\n",
    "        compiler = QuantumCompilation(\n",
    "            u = Wchain_zxz(num_qubits, num_layers),\n",
    "            vdagger = specific(state).inverse(),\n",
    "            optimizer = optimizer,\n",
    "            metrics_func = [\n",
    "                'loss_basic', \n",
    "                'compilation_trace_fidelities'\n",
    "            ]\n",
    "        )\n",
    "\n",
    "        compiler.fit(\n",
    "            num_steps = num_steps, \n",
    "            verbose=1\n",
    "        )\n",
    "        loss_valuess.append(compiler.metrics['loss_basic'])\n",
    "    np.savetxt(f'./data/loss/loss_{num_qubits}qubit_{num_layers}layer_{Wchain_zxz.__name__}.txt', np.array(loss_valuess))\n",
    "    print(f'loss_{num_qubits}qubit_{num_layers}layer_{Wchain_zxz.__name__}')"
   ]
  }
 ],
 "metadata": {
  "kernelspec": {
   "display_name": "Python 3",
   "language": "python",
   "name": "python3"
  },
  "language_info": {
   "codemirror_mode": {
    "name": "ipython",
    "version": 3
   },
   "file_extension": ".py",
   "mimetype": "text/x-python",
   "name": "python",
   "nbconvert_exporter": "python",
   "pygments_lexer": "ipython3",
   "version": "3.10.11"
  }
 },
 "nbformat": 4,
 "nbformat_minor": 2
}
