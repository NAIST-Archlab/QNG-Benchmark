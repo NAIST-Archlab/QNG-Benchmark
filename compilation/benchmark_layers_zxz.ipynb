{
 "cells": [
  {
   "cell_type": "code",
   "execution_count": 1,
   "metadata": {},
   "outputs": [
    {
     "name": "stderr",
     "output_type": "stream",
     "text": [
      "c:\\Users\\Public\\Documents\\Github\\QNG-Benchmark\\qoop\\core\\state.py:273: UserWarning: The input state is not normalized, we will normalize it for you\n",
      "  warnings.warn(\"The input state is not normalized, we will normalize it for you\")\n",
      "Step: 100%|██████████| 50/50 [01:24<00:00,  1.69s/it]\n",
      "Step: 100%|██████████| 50/50 [01:21<00:00,  1.62s/it]\n",
      "Step: 100%|██████████| 50/50 [02:09<00:00,  2.59s/it]\n",
      "Step: 100%|██████████| 50/50 [02:06<00:00,  2.53s/it]\n",
      "Step: 100%|██████████| 50/50 [02:03<00:00,  2.46s/it]\n"
     ]
    },
    {
     "name": "stdout",
     "output_type": "stream",
     "text": [
      "loss_5qubit_1layer_zxz_layer\n"
     ]
    },
    {
     "name": "stderr",
     "output_type": "stream",
     "text": [
      "Step: 100%|██████████| 50/50 [02:47<00:00,  3.35s/it]\n",
      "Step: 100%|██████████| 50/50 [03:08<00:00,  3.76s/it]\n",
      "Step: 100%|██████████| 50/50 [06:41<00:00,  8.03s/it]\n",
      "Step: 100%|██████████| 50/50 [06:48<00:00,  8.17s/it]\n",
      "Step: 100%|██████████| 50/50 [06:43<00:00,  8.07s/it]\n"
     ]
    },
    {
     "name": "stdout",
     "output_type": "stream",
     "text": [
      "loss_5qubit_2layer_zxz_layer\n"
     ]
    },
    {
     "name": "stderr",
     "output_type": "stream",
     "text": [
      "Step: 100%|██████████| 50/50 [06:00<00:00,  7.20s/it]\n",
      "Step: 100%|██████████| 50/50 [07:09<00:00,  8.59s/it]\n",
      "Step: 100%|██████████| 50/50 [09:14<00:00, 11.09s/it]\n",
      "Step: 100%|██████████| 50/50 [10:33<00:00, 12.68s/it]\n",
      "Step: 100%|██████████| 50/50 [10:29<00:00, 12.60s/it]\n"
     ]
    },
    {
     "name": "stdout",
     "output_type": "stream",
     "text": [
      "loss_5qubit_3layer_zxz_layer\n"
     ]
    },
    {
     "name": "stderr",
     "output_type": "stream",
     "text": [
      "Step: 100%|██████████| 50/50 [07:29<00:00,  8.99s/it]\n",
      "Step: 100%|██████████| 50/50 [09:10<00:00, 11.01s/it]\n",
      "Step: 100%|██████████| 50/50 [14:22<00:00, 17.25s/it]\n",
      "Step: 100%|██████████| 50/50 [08:38<00:00, 10.38s/it]\n",
      "Step: 100%|██████████| 50/50 [08:14<00:00,  9.89s/it]\n"
     ]
    },
    {
     "name": "stdout",
     "output_type": "stream",
     "text": [
      "loss_5qubit_4layer_zxz_layer\n"
     ]
    },
    {
     "name": "stderr",
     "output_type": "stream",
     "text": [
      "Step: 100%|██████████| 50/50 [07:09<00:00,  8.59s/it]\n",
      "Step: 100%|██████████| 50/50 [07:09<00:00,  8.58s/it]\n",
      "Step: 100%|██████████| 50/50 [10:24<00:00, 12.50s/it]\n",
      "Step: 100%|██████████| 50/50 [10:30<00:00, 12.62s/it]\n",
      "Step: 100%|██████████| 50/50 [10:29<00:00, 12.60s/it]\n"
     ]
    },
    {
     "name": "stdout",
     "output_type": "stream",
     "text": [
      "loss_5qubit_5layer_zxz_layer\n"
     ]
    },
    {
     "name": "stderr",
     "output_type": "stream",
     "text": [
      "Step: 100%|██████████| 50/50 [08:49<00:00, 10.59s/it]\n",
      "Step: 100%|██████████| 50/50 [08:46<00:00, 10.52s/it]\n",
      "Step: 100%|██████████| 50/50 [12:46<00:00, 15.32s/it]\n",
      "Step: 100%|██████████| 50/50 [12:44<00:00, 15.29s/it]\n",
      "Step: 100%|██████████| 50/50 [12:48<00:00, 15.36s/it]\n"
     ]
    },
    {
     "name": "stdout",
     "output_type": "stream",
     "text": [
      "loss_5qubit_6layer_zxz_layer\n"
     ]
    },
    {
     "name": "stderr",
     "output_type": "stream",
     "text": [
      "Step: 100%|██████████| 50/50 [10:32<00:00, 12.65s/it]\n",
      "Step: 100%|██████████| 50/50 [10:29<00:00, 12.58s/it]\n",
      "Step: 100%|██████████| 50/50 [15:19<00:00, 18.39s/it]\n",
      "Step: 100%|██████████| 50/50 [15:23<00:00, 18.47s/it]\n",
      "Step: 100%|██████████| 50/50 [15:30<00:00, 18.62s/it]\n"
     ]
    },
    {
     "name": "stdout",
     "output_type": "stream",
     "text": [
      "loss_5qubit_7layer_zxz_layer\n"
     ]
    },
    {
     "name": "stderr",
     "output_type": "stream",
     "text": [
      "Step: 100%|██████████| 50/50 [12:15<00:00, 14.71s/it]\n",
      "Step: 100%|██████████| 50/50 [12:17<00:00, 14.75s/it]\n",
      "Step: 100%|██████████| 50/50 [17:39<00:00, 21.18s/it]\n",
      "Step: 100%|██████████| 50/50 [17:42<00:00, 21.24s/it]\n",
      "Step: 100%|██████████| 50/50 [17:40<00:00, 21.21s/it]\n"
     ]
    },
    {
     "name": "stdout",
     "output_type": "stream",
     "text": [
      "loss_5qubit_8layer_zxz_layer\n"
     ]
    },
    {
     "name": "stderr",
     "output_type": "stream",
     "text": [
      "Step: 100%|██████████| 50/50 [14:02<00:00, 16.85s/it]\n",
      "Step: 100%|██████████| 50/50 [13:58<00:00, 16.76s/it]\n",
      "Step: 100%|██████████| 50/50 [20:02<00:00, 24.05s/it]\n",
      "Step: 100%|██████████| 50/50 [20:13<00:00, 24.28s/it]\n",
      "Step: 100%|██████████| 50/50 [20:08<00:00, 24.18s/it]\n"
     ]
    },
    {
     "name": "stdout",
     "output_type": "stream",
     "text": [
      "loss_5qubit_9layer_zxz_layer\n"
     ]
    }
   ],
   "source": [
    "import numpy as np\n",
    "from qoop.compilation.qsp import QuantumCompilation\n",
    "from qoop.core.ansatz import g2gn, zxz_layer\n",
    "from qoop.core.state import specific\n",
    "from qoop.backend import constant\n",
    "import time\n",
    "%load_ext autoreload\n",
    "%autoreload 2\n",
    "\n",
    "for num_layers in range(1, 10):\n",
    "    loss_valuess = []\n",
    "    num_qubits = 5\n",
    "    state = np.random.uniform(low = 0, high = 2*np.pi, size = 2**num_qubits)\n",
    "\n",
    "    optimizers = ['sgd', 'adam', 'qng_fubini_study', 'qng_qfim', 'qng_adam']\n",
    "\n",
    "    times = []\n",
    "    num_steps = 50\n",
    "    for optimizer in optimizers:\n",
    "        start = time.time()\n",
    "        compiler = QuantumCompilation(\n",
    "            u = zxz_layer(num_qubits, num_layers),\n",
    "            vdagger = specific(state).inverse(),\n",
    "            optimizer = optimizer,\n",
    "            metrics_func = [\n",
    "                'loss_basic', \n",
    "                'compilation_trace_fidelities'\n",
    "            ]\n",
    "        )\n",
    "\n",
    "        compiler.fit(\n",
    "            num_steps = num_steps, \n",
    "            verbose=1\n",
    "        )\n",
    "        loss_valuess.append(compiler.metrics['loss_basic'])\n",
    "    np.savetxt(f'./data/loss/loss_{num_qubits}qubit_{num_layers}layer_{zxz_layer.__name__}.txt', np.array(loss_valuess))\n",
    "    print(f'loss_{num_qubits}qubit_{num_layers}layer_{zxz_layer.__name__}')"
   ]
  },
  {
   "cell_type": "code",
   "execution_count": 2,
   "metadata": {},
   "outputs": [
    {
     "name": "stderr",
     "output_type": "stream",
     "text": [
      "Step: 100%|██████████| 50/50 [00:01<00:00, 32.42it/s]\n",
      "Step: 100%|██████████| 50/50 [00:01<00:00, 33.94it/s]\n",
      "Step: 100%|██████████| 50/50 [00:02<00:00, 21.19it/s]\n",
      "Step: 100%|██████████| 50/50 [00:02<00:00, 22.20it/s]\n",
      "Step: 100%|██████████| 50/50 [00:02<00:00, 21.50it/s]\n"
     ]
    },
    {
     "name": "stdout",
     "output_type": "stream",
     "text": [
      "loss_2qubit_1layer_zxz_layer\n"
     ]
    },
    {
     "name": "stderr",
     "output_type": "stream",
     "text": [
      "Step: 100%|██████████| 50/50 [00:06<00:00,  8.17it/s]\n",
      "Step: 100%|██████████| 50/50 [00:06<00:00,  7.97it/s]\n",
      "Step: 100%|██████████| 50/50 [00:09<00:00,  5.25it/s]\n",
      "Step: 100%|██████████| 50/50 [00:09<00:00,  5.27it/s]\n",
      "Step: 100%|██████████| 50/50 [00:09<00:00,  5.30it/s]\n"
     ]
    },
    {
     "name": "stdout",
     "output_type": "stream",
     "text": [
      "loss_3qubit_1layer_zxz_layer\n"
     ]
    },
    {
     "name": "stderr",
     "output_type": "stream",
     "text": [
      "Step: 100%|██████████| 50/50 [00:23<00:00,  2.15it/s]\n",
      "Step: 100%|██████████| 50/50 [00:23<00:00,  2.11it/s]\n",
      "Step: 100%|██████████| 50/50 [00:35<00:00,  1.41it/s]\n",
      "Step: 100%|██████████| 50/50 [00:35<00:00,  1.40it/s]\n",
      "Step: 100%|██████████| 50/50 [00:36<00:00,  1.38it/s]\n"
     ]
    },
    {
     "name": "stdout",
     "output_type": "stream",
     "text": [
      "loss_4qubit_1layer_zxz_layer\n"
     ]
    },
    {
     "name": "stderr",
     "output_type": "stream",
     "text": [
      "Step: 100%|██████████| 50/50 [01:20<00:00,  1.61s/it]\n",
      "Step: 100%|██████████| 50/50 [01:20<00:00,  1.62s/it]\n",
      "Step: 100%|██████████| 50/50 [01:57<00:00,  2.35s/it]\n",
      "Step: 100%|██████████| 50/50 [01:56<00:00,  2.34s/it]\n",
      "Step: 100%|██████████| 50/50 [01:59<00:00,  2.38s/it]\n"
     ]
    },
    {
     "name": "stdout",
     "output_type": "stream",
     "text": [
      "loss_5qubit_1layer_zxz_layer\n"
     ]
    },
    {
     "name": "stderr",
     "output_type": "stream",
     "text": [
      "Step: 100%|██████████| 50/50 [04:29<00:00,  5.39s/it]\n",
      "Step: 100%|██████████| 50/50 [04:29<00:00,  5.38s/it]\n",
      "Step: 100%|██████████| 50/50 [06:37<00:00,  7.96s/it]\n",
      "Step: 100%|██████████| 50/50 [06:29<00:00,  7.79s/it]\n",
      "Step: 100%|██████████| 50/50 [06:36<00:00,  7.93s/it]\n"
     ]
    },
    {
     "name": "stdout",
     "output_type": "stream",
     "text": [
      "loss_6qubit_1layer_zxz_layer\n"
     ]
    },
    {
     "name": "stderr",
     "output_type": "stream",
     "text": [
      "Step: 100%|██████████| 50/50 [16:34<00:00, 19.90s/it]\n",
      "Step: 100%|██████████| 50/50 [16:40<00:00, 20.01s/it]\n",
      "Step: 100%|██████████| 50/50 [22:45<00:00, 27.31s/it]\n",
      "Step: 100%|██████████| 50/50 [22:56<00:00, 27.53s/it]\n",
      "Step: 100%|██████████| 50/50 [22:44<00:00, 27.30s/it]\n"
     ]
    },
    {
     "name": "stdout",
     "output_type": "stream",
     "text": [
      "loss_7qubit_1layer_zxz_layer\n"
     ]
    },
    {
     "name": "stderr",
     "output_type": "stream",
     "text": [
      "Step: 100%|██████████| 50/50 [1:26:29<00:00, 103.79s/it]\n",
      "Step: 100%|██████████| 50/50 [1:22:20<00:00, 98.80s/it]\n",
      "Step: 100%|██████████| 50/50 [1:39:09<00:00, 118.98s/it]\n",
      "Step: 100%|██████████| 50/50 [1:38:42<00:00, 118.46s/it]\n",
      "Step: 100%|██████████| 50/50 [1:38:57<00:00, 118.75s/it]\n"
     ]
    },
    {
     "name": "stdout",
     "output_type": "stream",
     "text": [
      "loss_8qubit_1layer_zxz_layer\n"
     ]
    },
    {
     "name": "stderr",
     "output_type": "stream",
     "text": [
      "Step: 100%|██████████| 50/50 [10:19:05<00:00, 742.92s/it] \n",
      "Step: 100%|██████████| 50/50 [9:39:28<00:00, 695.38s/it]  \n",
      "Step: 100%|██████████| 50/50 [10:03:43<00:00, 724.46s/it] \n",
      "Step: 100%|██████████| 50/50 [9:39:30<00:00, 695.40s/it]  \n",
      "Step: 100%|██████████| 50/50 [9:40:59<00:00, 697.20s/it]  \n"
     ]
    },
    {
     "name": "stdout",
     "output_type": "stream",
     "text": [
      "loss_9qubit_1layer_zxz_layer\n"
     ]
    }
   ],
   "source": [
    "\n",
    "for num_qubits in range(2, 10):\n",
    "    loss_valuess = []\n",
    "    num_layers = 1\n",
    "    state = np.random.uniform(low = 0, high = 2*np.pi, size = 2**num_qubits)\n",
    "\n",
    "    optimizers = ['sgd', 'adam', 'qng_fubini_study', 'qng_qfim', 'qng_adam']\n",
    "\n",
    "    times = []\n",
    "    num_steps = 50\n",
    "    for optimizer in optimizers:\n",
    "        start = time.time()\n",
    "        compiler = QuantumCompilation(\n",
    "            u = zxz_layer(num_qubits, num_layers),\n",
    "            vdagger = specific(state).inverse(),\n",
    "            optimizer = optimizer,\n",
    "            metrics_func = [\n",
    "                'loss_basic', \n",
    "                'compilation_trace_fidelities'\n",
    "            ]\n",
    "        )\n",
    "\n",
    "        compiler.fit(\n",
    "            num_steps = num_steps, \n",
    "            verbose=1\n",
    "        )\n",
    "        loss_valuess.append(compiler.metrics['loss_basic'])\n",
    "    np.savetxt(f'./data/loss/loss_{num_qubits}qubit_{num_layers}layer_{zxz_layer.__name__}.txt', np.array(loss_valuess))\n",
    "    print(f'loss_{num_qubits}qubit_{num_layers}layer_{zxz_layer.__name__}')"
   ]
  }
 ],
 "metadata": {
  "kernelspec": {
   "display_name": "Python 3",
   "language": "python",
   "name": "python3"
  },
  "language_info": {
   "codemirror_mode": {
    "name": "ipython",
    "version": 3
   },
   "file_extension": ".py",
   "mimetype": "text/x-python",
   "name": "python",
   "nbconvert_exporter": "python",
   "pygments_lexer": "ipython3",
   "version": "3.10.11"
  }
 },
 "nbformat": 4,
 "nbformat_minor": 2
}
