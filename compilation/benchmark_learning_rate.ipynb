{
 "cells": [
  {
   "cell_type": "code",
   "execution_count": 5,
   "metadata": {},
   "outputs": [
    {
     "name": "stdout",
     "output_type": "stream",
     "text": [
      "The autoreload extension is already loaded. To reload it, use:\n",
      "  %reload_ext autoreload\n",
      "0.01\n",
      "0.01\n",
      "0.01\n",
      "0.01\n",
      "0.01\n",
      "num_qubits: 3\n",
      "0.02\n",
      "0.02\n",
      "0.02\n",
      "0.02\n",
      "0.02\n",
      "num_qubits: 3\n"
     ]
    }
   ],
   "source": [
    "import numpy as np\n",
    "import sys\n",
    "sys.path.insert(0, '..')\n",
    "from qoop.compilation.qsp import QuantumCompilation\n",
    "from qoop.core.ansatz import g2gn\n",
    "from qoop.core.state import specific\n",
    "from qoop.backend import constant\n",
    "import time\n",
    "%load_ext autoreload\n",
    "%autoreload 2\n",
    "\n",
    "num_qubits = 3\n",
    "num_layers = 1\n",
    "init_lr = 0.01\n",
    "for k in range(1, 3):\n",
    "\n",
    "    state = np.random.uniform(low = 0, high = 2*np.pi, size = 2**num_qubits)\n",
    "\n",
    "    optimizers = ['sgd', 'adam', 'qng_fubini_study', 'qng_qfim', 'qng_adam']\n",
    "    constant.LEARNING_RATE = 0.01 * k\n",
    "    loss = []\n",
    "    num_steps = 5\n",
    "    for optimizer in optimizers:\n",
    "        start = time.time()\n",
    "        compiler = QuantumCompilation(\n",
    "            u = g2gn(num_qubits, num_layers),\n",
    "            vdagger = specific(state).inverse(),\n",
    "            optimizer = optimizer,\n",
    "            metrics_func = [\n",
    "                'loss_basic', \n",
    "                'compilation_trace_fidelities'\n",
    "            ]\n",
    "        )\n",
    "\n",
    "        compiler.fit(\n",
    "            num_steps = num_steps, \n",
    "        )\n",
    "        loss.append(compiler.metrics['loss_basic'][-1])\n",
    "    print(f'num_qubits: {num_qubits}')\n",
    "    np.savetxt(f'../data/loss_lr/loss_5qubit_lr{0.01 * k}.txt', loss)"
   ]
  }
 ],
 "metadata": {
  "kernelspec": {
   "display_name": "Python 3",
   "language": "python",
   "name": "python3"
  },
  "language_info": {
   "codemirror_mode": {
    "name": "ipython",
    "version": 3
   },
   "file_extension": ".py",
   "mimetype": "text/x-python",
   "name": "python",
   "nbconvert_exporter": "python",
   "pygments_lexer": "ipython3",
   "version": "3.10.11"
  }
 },
 "nbformat": 4,
 "nbformat_minor": 2
}
