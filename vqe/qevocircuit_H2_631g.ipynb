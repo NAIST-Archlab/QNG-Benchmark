{
 "cells": [
  {
   "cell_type": "code",
   "execution_count": 3,
   "metadata": {},
   "outputs": [],
   "source": [
    "import pennylane as qml\n",
    "from pennylane import numpy as np\n",
    "import sys\n",
    "sys.path.insert(0, '..')\n",
    "from qoop.core.ansatz import chain_zxz_pennylane\n",
    "\n",
    "def vqe(opt, num_layers):\n",
    "    import pennylane.numpy as nps\n",
    "    import pennylane as qml\n",
    "    symbols = [\"H\", \"H\"]\n",
    "    num_qubits = 3\n",
    "    coordinates = np.array([[0.0, 0.0, -0.6614], [0.0, 0.0, 0.6614]])\n",
    "    H, qubits = qml.qchem.molecular_hamiltonian(symbols, coordinates)\n",
    "\n",
    "    dev = qml.device(\"default.qubit\", wires=qubits)\n",
    "\n",
    "    chain_zxz_pennylane_func = chain_zxz_pennylane(num_qubits, num_layers)\n",
    "    thetas = nps.random.uniform(0, 2*nps.pi, 4 * num_qubits * num_layers)\n",
    "\n",
    "    @qml.qnode(dev, diff_method=\"parameter-shift\")\n",
    "    def cost_fn(thetas):\n",
    "        j = 0\n",
    "        for _ in range(0, num_layers):\n",
    "            for i in range(0, num_qubits - 1):\n",
    "                qml.CRY(thetas[j], wires=[i,i+1])\n",
    "                j += 1\n",
    "            qml.CRY(thetas[j], wires=[num_qubits - 1, 0])\n",
    "            j += 1\n",
    "            for i in range(0, num_qubits):\n",
    "                qml.RZ(thetas[j], wires=i)\n",
    "                qml.RX(thetas[j+1], wires=i)\n",
    "                qml.RZ(thetas[j+2], wires=i)\n",
    "                j += 3\n",
    "        return qml.expval(H)\n",
    "\n",
    "\n",
    "    # VQE Optimization Loop\n",
    "    max_iterations = 10\n",
    "\n",
    "    E_fci = -1.136189454088\n",
    "    costs = []\n",
    "    for i in range(max_iterations):\n",
    "        thetas, cost = opt.step_and_cost(cost_fn, thetas)\n",
    "        costs.append(cost)\n",
    "    return costs\n",
    "\n",
    "opt = qml.AdamOptimizer(stepsize=0.1)\n",
    "costs = vqe(opt, 1)"
   ]
  },
  {
   "cell_type": "code",
   "execution_count": 7,
   "metadata": {},
   "outputs": [],
   "source": [
    "class RCDOptimizer:\n",
    "    def __init__(self, eta=0.01 , h=0.005):\n",
    "        self.h = h\n",
    "        self.eta = eta\n",
    "\n",
    "    def step(self, objective_fn, theta):\n",
    "        i = np.random.randint(theta.size)\n",
    "        shape = theta.shape\n",
    "        dt = np.eye(1,theta.size,i)\n",
    "        theta = theta.reshape(-1)\n",
    "        dtheta = (objective_fn((theta+dt*self.h).reshape(shape)) \n",
    "                    -objective_fn((theta-dt*self.h).reshape(shape)))/(2*self.h)\n",
    "        return (theta - self.eta*dtheta*dt).reshape(shape)\n",
    "\n",
    "    def step_and_cost(self, objective_fn, theta):\n",
    "        theta = self.step(objective_fn, theta)\n",
    "        return theta, objective_fn(theta)\n",
    "\n",
    "opt = RCDOptimizer(eta=0.1, h=0.01)\n",
    "costs_rcd = vqe(opt, 1)"
   ]
  },
  {
   "cell_type": "code",
   "execution_count": 8,
   "metadata": {},
   "outputs": [
    {
     "data": {
      "text/plain": [
       "<matplotlib.legend.Legend at 0x16e20ea50>"
      ]
     },
     "execution_count": 8,
     "metadata": {},
     "output_type": "execute_result"
    },
    {
     "data": {
      "image/png": "[encoded data removed]",
      "text/plain": [
       "<Figure size 640x480 with 1 Axes>"
      ]
     },
     "metadata": {},
     "output_type": "display_data"
    }
   ],
   "source": [
    "import matplotlib.pyplot as plt\n",
    "plt.plot(costs)\n",
    "plt.plot(costs_rcd, label=\"RCD\")\n",
    "plt.legend()"
   ]
  },
  {
   "cell_type": "code",
   "execution_count": null,
   "metadata": {},
   "outputs": [],
   "source": [
    "drawer = qml.draw(chain_zxz_pennylane_func)(thetas)\n",
    "print(drawer)"
   ]
  },
  {
   "cell_type": "code",
   "execution_count": null,
   "metadata": {},
   "outputs": [
    {
     "name": "stderr",
     "output_type": "stream",
     "text": [
      "/var/folders/bw/2cm4rnhn0djgg95n4py1pysc0000gp/T/ipykernel_26233/568627938.py:11: DeprecationWarning: The class ``qiskit.primitives.estimator.Estimator`` is deprecated as of qiskit 1.2. It will be removed no earlier than 3 months after the release date. All implementations of the `BaseEstimatorV1` interface have been deprecated in favor of their V2 counterparts. The V2 alternative for the `Estimator` class is `StatevectorEstimator`.\n",
      "  estimator = Estimator()\n"
     ]
    },
    {
     "name": "stdout",
     "output_type": "stream",
     "text": [
      "-1.8816967632790051\n"
     ]
    }
   ],
   "source": [
    "from qiskit_algorithms.minimum_eigensolvers import NumPyMinimumEigensolver\n",
    "from qiskit_nature.second_q.algorithms import GroundStateEigensolver\n",
    "from qiskit_algorithms.minimum_eigensolvers import VQE\n",
    "from qiskit.primitives import Estimator\n",
    "from qiskit_algorithms.optimizers import COBYLA, L_BFGS_B, SLSQP, ADAM, GradientDescent, AQGD\n",
    "from qiskit_nature.second_q.drivers import PySCFDriver\n",
    "from qiskit_nature.second_q.mappers import JordanWignerMapper, ParityMapper\n",
    "from qiskit_nature.units import DistanceUnit\n",
    "from qiskit_algorithms.gradients import thetashiftEstimatorGradient\n",
    "optimizer = SLSQP(maxiter=60)\n",
    "estimator = Estimator()\n",
    "#algorithm_globals.random_seed = 50\n",
    "\n",
    "driver = PySCFDriver(\n",
    "        atom=\"H 0 0 0; H 0 0 0.7\",\n",
    "        basis=\"631g\",\n",
    "        charge=0,\n",
    "        spin=0,\n",
    "        unit=DistanceUnit.ANGSTROM,\n",
    "    )\n",
    "problem = driver.run()\n",
    "hamiltonian = problem.hamiltonian.second_q_op()\n",
    "mapper=JordanWignerMapper()\n",
    "qubit_op = mapper.map(hamiltonian)\n",
    "gradientor = thetashiftEstimatorGradient(estimator)\n",
    "vqe = VQE(estimator = estimator, ansatz = qc, optimizer=optimizer, gradient = gradientor)\n",
    "ene_vqe = vqe.compute_minimum_eigenvalue(qubit_op).eigenvalue.real\n",
    "print(ene_vqe)"
   ]
  },
  {
   "cell_type": "code",
   "execution_count": 34,
   "metadata": {},
   "outputs": [],
   "source": [
    "import numpy as np\n",
    "optimizers = [ADAM(maxiter=100, lr = 0.1, beta_1 = 0.8, beta_2 = 0.999, eps = 10**(-8)), \n",
    "              GradientDescent(maxiter=100, learning_rate = 0.1),\n",
    "              ]\n",
    "converge_cnts = np.empty([len(optimizers)], dtype=object)\n",
    "converge_vals = np.empty([len(optimizers)], dtype=object)\n",
    "\n",
    "def vqe_convergence(qc):\n",
    "    for i, optimizer in enumerate(optimizers):\n",
    "        print('\\rOptimizer: {}        '.format(type(optimizer).__name__), end='')\n",
    "        ansatz = qc\n",
    "\n",
    "        counts = []\n",
    "        values = []\n",
    "        def store_intermediate_result(eval_count, parameters, mean, std):\n",
    "            counts.append(eval_count)\n",
    "            values.append(mean)\n",
    "\n",
    "        vqe = VQE(estimator = estimator, ansatz = qc, optimizer=optimizer, gradient = gradientor, callback=store_intermediate_result)\n",
    "        #vqe = VQE(ansatz, optimizer, callback=store_intermediate_result,\n",
    "        #          quantum_instance=QuantumInstance(backend=Aer.get_backend('statevector_simulator')))\n",
    "        result = vqe.compute_minimum_eigenvalue(qubit_op)\n",
    "        print(result.eigenvalue)\n",
    "        converge_cnts[i] = np.asarray(counts)\n",
    "        converge_vals[i] = np.asarray(values)\n",
    "    return converge_cnts, converge_vals"
   ]
  },
  {
   "cell_type": "code",
   "execution_count": null,
   "metadata": {},
   "outputs": [
    {
     "name": "stdout",
     "output_type": "stream",
     "text": [
      "Optimizer: ADAM        -1.8820882958622498\n",
      "Optimizer: GradientDescent        -1.1654710874451597\n"
     ]
    },
    {
     "data": {
      "text/plain": [
       "<matplotlib.legend.Legend at 0x136aea010>"
      ]
     },
     "execution_count": 35,
     "metadata": {},
     "output_type": "execute_result"
    },
    {
     "data": {
      "image/png": "[encoded data removed]",
      "text/plain": [
       "<Figure size 800x500 with 1 Axes>"
      ]
     },
     "metadata": {},
     "output_type": "display_data"
    }
   ],
   "source": [
    "import pylab\n",
    "\n",
    "converge_cnts, converge_vals = vqe_convergence(qc)\n",
    "pylab.rcthetas['figure.figsize'] = (8, 5)\n",
    "for i, optimizer in enumerate(optimizers):\n",
    "    pylab.plot(converge_cnts[i], converge_vals[i], label=type(optimizer).__name__)\n",
    "pylab.xlabel('#Step')\n",
    "pylab.ylabel('Energy')\n",
    "pylab.title('Energy convergence for various optimizers')\n",
    "pylab.legend(loc='upper right')"
   ]
  },
  {
   "cell_type": "code",
   "execution_count": null,
   "metadata": {},
   "outputs": [
    {
     "name": "stdout",
     "output_type": "stream",
     "text": [
      "-1.8820888154393793\n"
     ]
    }
   ],
   "source": []
  },
  {
   "cell_type": "code",
   "execution_count": 7,
   "metadata": {},
   "outputs": [
    {
     "name": "stderr",
     "output_type": "stream",
     "text": [
      "/var/folders/bw/2cm4rnhn0djgg95n4py1pysc0000gp/T/ipykernel_26233/2802137497.py:10: DeprecationWarning: The class ``qiskit.primitives.estimator.Estimator`` is deprecated as of qiskit 1.2. It will be removed no earlier than 3 months after the release date. All implementations of the `BaseEstimatorV1` interface have been deprecated in favor of their V2 counterparts. The V2 alternative for the `Estimator` class is `StatevectorEstimator`.\n",
      "  estimator = Estimator()\n"
     ]
    }
   ],
   "source": [
    "driver = PySCFDriver(\n",
    "        atom=\"H 0 0 0; H 0 0 0.7\",\n",
    "        basis=\"631g\",\n",
    "        charge=0,\n",
    "        spin=0\n",
    "    )\n",
    "problem = driver.run()\n",
    "hamiltonian = problem.hamiltonian.second_q_op()\n",
    "optimizer = SLSQP(maxiter=1000)\n",
    "estimator = Estimator()\n",
    "mapper=JordanWignerMapper()\n",
    "qubit_op = mapper.map(hamiltonian)\n",
    "vqe = VQE(estimator = estimator, ansatz = qc, optimizer=optimizer)\n",
    "computation_value = vqe.compute_minimum_eigenvalue(qubit_op).eigenvalue.real"
   ]
  }
 ],
 "metadata": {
  "kernelspec": {
   "display_name": "Python 3",
   "language": "python",
   "name": "python3"
  },
  "language_info": {
   "codemirror_mode": {
    "name": "ipython",
    "version": 3
   },
   "file_extension": ".py",
   "mimetype": "text/x-python",
   "name": "python",
   "nbconvert_exporter": "python",
   "pygments_lexer": "ipython3",
   "version": "3.11.5"
  }
 },
 "nbformat": 4,
 "nbformat_minor": 4
}
