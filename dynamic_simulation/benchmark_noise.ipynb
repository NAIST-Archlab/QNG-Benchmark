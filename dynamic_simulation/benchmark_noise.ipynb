{
 "cells": [
  {
   "cell_type": "code",
   "execution_count": 8,
   "metadata": {},
   "outputs": [],
   "source": [
    "import sys\n",
    "sys.path.insert(0, '..')\n",
    "import pennylane as qml\n",
    "from qoop.core import ansatz, state\n",
    "import pennylane.numpy as nps\n",
    "import qiskit\n",
    "import numpy as np\n",
    "from qoop.hamiltonian import hamiltonian\n",
    "from qiskit.circuit.library import UnitaryGate\n",
    "\n",
    "num_qubits = 3\n",
    "def dynamic(opt, num_layers, t):\n",
    "    dev = qml.device(\"default.mixed\", wires=num_qubits)\n",
    "    qc = qiskit.QuantumCircuit(num_qubits)\n",
    "\n",
    "    h_opt = hamiltonian.XYZ_model(N = num_qubits, J = 0.5, u = 0, h = [0,0,0,0])\n",
    "    U = state.time_dependent_u(4,h_opt, t)\n",
    "    if not np.allclose(U @ U.conj().T, np.eye(U.shape[0])):\n",
    "        raise ValueError(\"The resulting matrix U is not unitary.\")\n",
    "\n",
    "    unitary_gate = UnitaryGate(U)\n",
    "    qc.append(unitary_gate, range(num_qubits))\n",
    "\n",
    "    @qml.qnode(dev, diff_method=\"parameter-shift\")\n",
    "    def circuit2(thetas):\n",
    "        j = 0\n",
    "        for _ in range(0, num_layers):\n",
    "            for i in range(0, num_qubits - 1):\n",
    "                qml.CRY(thetas[j], wires=[i,i+1])\n",
    "                j += 1\n",
    "            qml.CRY(thetas[j], wires=[num_qubits - 1, 0])\n",
    "            j += 1\n",
    "            for i in range(0, num_qubits):\n",
    "                qml.RZ(thetas[j], wires=i)\n",
    "                qml.RX(thetas[j+1], wires=i)\n",
    "                qml.RZ(thetas[j+2], wires=i)\n",
    "                j += 3\n",
    "        for i in range(num_qubits):\n",
    "            qml.DepolarizingChannel(p=0.05, wires=i)  # Noise probability\n",
    "\n",
    "        return qml.expval(qml.PauliZ(0))\n",
    "        \n",
    "\n",
    "    def cost_fn(thetas):\n",
    "        return 1 - circuit2(thetas)\n",
    "\n",
    "    thetas = nps.random.uniform(0, 2*nps.pi, 4 * num_qubits * num_layers)\n",
    "\n",
    "    steps = 400\n",
    "    costs = []\n",
    "    grad_func = qml.grad(cost_fn)\n",
    "    for n in range(steps):\n",
    "        thetas, cost = opt.step_and_cost(cost_fn, thetas, grad_fn = grad_func)\n",
    "        costs.append(cost)\n",
    "    return costs"
   ]
  },
  {
   "cell_type": "code",
   "execution_count": 9,
   "metadata": {},
   "outputs": [
    {
     "name": "stdout",
     "output_type": "stream",
     "text": [
      "AdamOptimizer\n",
      "AdamWOptimizer\n",
      "AMSGradOptimizer\n",
      "NadamOptimizer\n",
      "RAdamOptimizer\n",
      "QHAdamOptimizer\n",
      "AdamaxOptimizer\n"
     ]
    }
   ],
   "source": [
    "from qoop.core import optimizer_pennylane\n",
    "\n",
    "optimizer_funcs = [qml.AdamOptimizer, \n",
    "             optimizer_pennylane.AdamWOptimizer,\n",
    "             optimizer_pennylane.AMSGradOptimizer,\n",
    "             optimizer_pennylane.NadamOptimizer,\n",
    "             optimizer_pennylane.RAdamOptimizer,\n",
    "             optimizer_pennylane.QHAdamOptimizer,\n",
    "             optimizer_pennylane.AdamaxOptimizer]\n",
    "\n",
    "costss = []\n",
    "num_layers = 2\n",
    "t = 1\n",
    "for optimizer_func in optimizer_funcs:\n",
    "\tprint(optimizer_func.__name__)\n",
    "\topt = optimizer_func(stepsize = 0.1)\n",
    "\tcosts = dynamic(opt, num_layers, t)\n",
    "\tnp.savetxt(f\"../data/loss/lossdynamic_{num_qubits}qubit_{num_layers}layer_{optimizer_func.__name__}_t{t}_noise.txt\", costs)\n",
    "\tcostss.append(costs)\n"
   ]
  },
  {
   "cell_type": "code",
   "execution_count": 4,
   "metadata": {},
   "outputs": [
    {
     "name": "stdout",
     "output_type": "stream",
     "text": [
      "0: ──H─╭●──DepolarizingChannel(0.05)─┤  <Z>\n",
      "1: ────╰X──DepolarizingChannel(0.05)─┤     \n"
     ]
    }
   ],
   "source": [
    "import pennylane as qml\n",
    "\n",
    "# Define the number of qubits\n",
    "n_qubits = 2\n",
    "\n",
    "# Define the device\n",
    "dev = qml.device(\"default.mixed\", wires=n_qubits)\n",
    "\n",
    "@qml.qnode(dev)\n",
    "def noisy_circuit():\n",
    "    qml.Hadamard(wires=0)\n",
    "    qml.CNOT(wires=[0, 1])\n",
    "    \n",
    "    # Apply depolarizing noise to all qubits\n",
    "    for i in range(n_qubits):\n",
    "        qml.DepolarizingChannel(p=0.05, wires=i)  # Noise probability\n",
    "\n",
    "    return qml.expval(qml.PauliZ(0))\n",
    "\n",
    "# Draw the circuit\n",
    "drawer = qml.draw(noisy_circuit)\n",
    "print(drawer())\n"
   ]
  }
 ],
 "metadata": {
  "kernelspec": {
   "display_name": "Python 3",
   "language": "python",
   "name": "python3"
  },
  "language_info": {
   "codemirror_mode": {
    "name": "ipython",
    "version": 3
   },
   "file_extension": ".py",
   "mimetype": "text/x-python",
   "name": "python",
   "nbconvert_exporter": "python",
   "pygments_lexer": "ipython3",
   "version": "3.10.11"
  }
 },
 "nbformat": 4,
 "nbformat_minor": 2
}
